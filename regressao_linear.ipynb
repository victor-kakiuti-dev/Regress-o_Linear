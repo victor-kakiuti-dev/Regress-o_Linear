{
  "nbformat": 4,
  "nbformat_minor": 0,
  "metadata": {
    "colab": {
      "provenance": [],
      "authorship_tag": "ABX9TyMgnGJVrw0WOaycphhrUbPU",
      "include_colab_link": true
    },
    "kernelspec": {
      "name": "python3",
      "display_name": "Python 3"
    },
    "language_info": {
      "name": "python"
    }
  },
  "cells": [
    {
      "cell_type": "markdown",
      "metadata": {
        "id": "view-in-github",
        "colab_type": "text"
      },
      "source": [
        "<a href=\"https://colab.research.google.com/github/victor-kakiuti-dev/Regress-o_Linear/blob/main/regressao_linear.ipynb\" target=\"_parent\"><img src=\"https://colab.research.google.com/assets/colab-badge.svg\" alt=\"Open In Colab\"/></a>"
      ]
    },
    {
      "cell_type": "markdown",
      "source": [
        "# Regressão Linear"
      ],
      "metadata": {
        "id": "otT558UTQhz3"
      }
    },
    {
      "cell_type": "code",
      "execution_count": 2,
      "metadata": {
        "id": "SMmvBTW6P-G3"
      },
      "outputs": [],
      "source": [
        "import numpy as np"
      ]
    },
    {
      "cell_type": "markdown",
      "source": [
        "Dados de exemplo (y = 2x + 1 com um pouco de ruído)"
      ],
      "metadata": {
        "id": "h-uKtuIQQeQ9"
      }
    },
    {
      "cell_type": "code",
      "source": [
        "X = np.random.rand(100, 1)\n",
        "y = 2 * X + 1 + 0.1*np.random.randn(100, 1)"
      ],
      "metadata": {
        "id": "5SUckG8BQNZZ"
      },
      "execution_count": 3,
      "outputs": []
    },
    {
      "cell_type": "markdown",
      "source": [
        "Inicializar parâmetros (peso e bias)\n"
      ],
      "metadata": {
        "id": "gRciX0CIQoiD"
      }
    },
    {
      "cell_type": "code",
      "source": [
        "w = np.random.randn(1)\n",
        "b = np.random.randn(1)"
      ],
      "metadata": {
        "id": "Q6AqSLEmQm3i"
      },
      "execution_count": 4,
      "outputs": []
    },
    {
      "cell_type": "markdown",
      "source": [
        "Hiperparâmetros"
      ],
      "metadata": {
        "id": "v7F5GiKPQy5A"
      }
    },
    {
      "cell_type": "code",
      "source": [
        "lr = 0.1\n",
        "epochs = 1000"
      ],
      "metadata": {
        "id": "HKYgv8VZQ2US"
      },
      "execution_count": 5,
      "outputs": []
    },
    {
      "cell_type": "markdown",
      "source": [
        "Treinamento"
      ],
      "metadata": {
        "id": "Wz8xp9tRQ7bp"
      }
    },
    {
      "cell_type": "code",
      "source": [
        "for epoch in range(epochs):\n",
        "  # Forward pass: prever valores\n",
        "  y_pred = X * w + b\n",
        "\n",
        "  # Calcular erro (loss = MSE)\n",
        "  loss = np.mean(y - y_pred)\n",
        "\n",
        "  # Backwars pass: derivadas\n",
        "  dw = -2 * np.mean(X * (y - y_pred))\n",
        "  db = -1 * np.mean(y - y_pred)\n",
        "\n",
        "  # Atualizar parâmetros\n",
        "  w -= lr * dw\n",
        "  b -= lr * db\n",
        "\n",
        "  # Mostrar progresso a cada 100 iterações\n",
        "  if epoch % 100 == 0:\n",
        "    print(f\"Epoch {epoch}: Looss={loss:.4f}, w={w[0]:.4f}, b={b[0]:.4f}\")\n",
        "\n",
        ""
      ],
      "metadata": {
        "colab": {
          "base_uri": "https://localhost:8080/"
        },
        "id": "UTXBWYFAQ9KW",
        "outputId": "a8393475-afd2-490f-e8ed-80e0af1505a9"
      },
      "execution_count": 7,
      "outputs": [
        {
          "output_type": "stream",
          "name": "stdout",
          "text": [
            "Epoch 0: Looss=1.5987, w=-0.6644, b=1.0143\n",
            "Epoch 100: Looss=-0.0334, w=1.5278, b=1.2723\n",
            "Epoch 200: Looss=-0.0097, w=1.8595, b=1.0818\n",
            "Epoch 300: Looss=-0.0028, w=1.9558, b=1.0264\n",
            "Epoch 400: Looss=-0.0008, w=1.9838, b=1.0104\n",
            "Epoch 500: Looss=-0.0002, w=1.9919, b=1.0057\n",
            "Epoch 600: Looss=-0.0001, w=1.9943, b=1.0043\n",
            "Epoch 700: Looss=-0.0000, w=1.9950, b=1.0039\n",
            "Epoch 800: Looss=-0.0000, w=1.9952, b=1.0038\n",
            "Epoch 900: Looss=-0.0000, w=1.9952, b=1.0038\n"
          ]
        }
      ]
    },
    {
      "cell_type": "code",
      "source": [
        "print(\"\\nModelo final: y =\", round(w[0], 2), \"x +\", round(b[0], 2))"
      ],
      "metadata": {
        "colab": {
          "base_uri": "https://localhost:8080/"
        },
        "id": "lAABDFOzSpIf",
        "outputId": "76923aa0-f04a-42e2-9c7d-989f9835d566"
      },
      "execution_count": 9,
      "outputs": [
        {
          "output_type": "stream",
          "name": "stdout",
          "text": [
            "\n",
            "Modelo final: y = 2.0 x + 1.0\n"
          ]
        }
      ]
    },
    {
      "cell_type": "code",
      "source": [],
      "metadata": {
        "id": "M9knkp-3TSCs"
      },
      "execution_count": null,
      "outputs": []
    }
  ]
}